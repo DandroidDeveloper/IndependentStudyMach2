{
 "cells": [
  {
   "cell_type": "markdown",
   "metadata": {},
   "source": [
    "<p>Daniel Marcoux</p>"
   ]
  },
  {
   "cell_type": "markdown",
   "metadata": {},
   "source": [
    "<h1 style = \"text-align:center;\">Independent Study Week 1</h1>"
   ]
  },
  {
   "cell_type": "markdown",
   "metadata": {},
   "source": [
    "<h3 style = \"text-align:center;\">Artificial Neural Networks</h3>"
   ]
  },
  {
   "cell_type": "markdown",
   "metadata": {
    "collapsed": true
   },
   "source": [
    "<img src = \"synapse.jpg\" height=\"720\" width=\"1028\" style = \"text-align:center\"></img>"
   ]
  },
  {
   "cell_type": "markdown",
   "metadata": {},
   "source": [
    "<p style = \"text-align:center\"> The picture above is a 3d wireframe exploded view model of synaptic vesicles and synapses courtesy of National Geographic's <a href = \"https://www.youtube.com/watch?v=nvXuq9jRWKE\">youtube</a> channel. The picture is from a segment on how our brains communicate at the tiniest scale.</p>"
   ]
  },
  {
   "cell_type": "markdown",
   "metadata": {},
   "source": [
    "<h4>Introduction</h4>\n",
    "<p>I am fascinated by how things work. Computer Science gives one an outlet for this fascination, and the ability to model things and discover how they work. Making models of things is integral to discovering how they work. In the words of MIT Artificial Intelligence Professor Patrick Winston, making models allows one to \"understand the past, predict the future, and control the world.\" The goal of this independent study is to attempt to understand how intelligence works by creating models of intelligence, specifically artificial neural networks. The resources I will be using include Stephen Welch's great lecture on <a href = \"https://www.youtube.com/watch?v=bxe2T-V8XRs&list=PLiaHhY2iBX9hdHaRr6b7XevZtgZRa1PoU\">Neural Networks</a> and Patrick Winston's lectures on <a href = \"https://www.youtube.com/watch?v=TjZBTDzGeGg&list=PLUl4u3cNGP63gFHB6xb-kVBiQHYe_4hSi\">Artificial Intelligence</a> along with the accompanying <a href = \"http://www.amazon.com/s/ref=nb_sb_noss?url=search-alias%3Daps&field-keywords=patrick+winston+artificial+intelligence\">textbook.</a></p>\n",
    "<br>"
   ]
  },
  {
   "cell_type": "markdown",
   "metadata": {},
   "source": [
    "<p style = \"text-align:center\">One thing I have been trying to figure out for quite some time is how my brain works...</p>\n"
   ]
  },
  {
   "cell_type": "markdown",
   "metadata": {},
   "source": [
    "<img src = \"debugger.png\"></img>"
   ]
  },
  {
   "cell_type": "markdown",
   "metadata": {
    "collapsed": true
   },
   "source": [
    "<div style = \"text-align:center\"><a href = \"https://xkcd.com/1163/\">XKCD</a></div>"
   ]
  },
  {
   "cell_type": "markdown",
   "metadata": {},
   "source": [
    "<p>I think the most interesting place to begin answering how our brains work, or more specifically how artificial neural networks work, is by comparing how we are different than the chimpanzees whom we share approximately 96 percent of our dna with. Most people would come to the conclusion that over the course of evolution, slow steady improvement eventually made our brains better than those of the chimpanzees. According to Professor Winston, <a href = \"https://www.youtube.com/watch?v=TjZBTDzGeGg&list=PLUl4u3cNGP63gFHB6xb-kVBiQHYe_4hSi\" >this</a> is not the case. \"From the fossil record, the story seems to be this. We humans have been around for about 200,000 years in our present anatomical form. However, for the first 150,000 years or so humans did not amount to much. Somehow, shortly before 50,000 years ago, one small group of us developed a capability that seperated us from all other species. It was an accident of evolution. It is also probably the case that we necked down as a species to a few thousand or few hundred individuals, something that made these accidental evolutionary changes more capable of sticking... This leads us to speculate on what it was that happened 50,000 years ago. Paleoanthropologists, <a href = \"https://en.wikipedia.org/wiki/Noam_Chomsky\">Noam Chomsky</a>, and many others have reached a similar conclusion.\" To quote Chomsky, \"It seems that shortly before 50,000 years ago, some small group of us developed the ability to take two concepts, and combine them to make a third concept, without disturbing the original two concepts; without limit.\"</p>"
   ]
  },
  {
   "cell_type": "markdown",
   "metadata": {},
   "source": [
    "<p>Winston declares that what Chomsky is saying is we began to learn how to describe things in a way that was intimately connected with language, and that in the end is what seperates us from chimpanzees. </p>"
   ]
  },
  {
   "cell_type": "markdown",
   "metadata": {},
   "source": [
    "<img src = \"evolution.jpg\" height=\"720\" width=\"720\"></img>"
   ]
  },
  {
   "cell_type": "markdown",
   "metadata": {},
   "source": [
    "<div style = \"text-align:center\"><a href = \"http://ichef.bbci.co.uk/images/ic/1920x1080/p01n8f4h.jpg\">Source</a></div>"
   ]
  },
  {
   "cell_type": "markdown",
   "metadata": {},
   "source": [
    "<p>\"So you might think lets just study language. You can't do that because we actually think with our eyes. According to Winston, language does two things. Number one it enables us to make descriptions, descriptions enable us to tell stories, and story telling and story understanding is what all of learning is about. Number two, language enables us to marshal the resources of our perceptual systems, and even command our perceptual systems to imagine things we have never seen!\"</p>"
   ]
  },
  {
   "cell_type": "markdown",
   "metadata": {},
   "source": [
    "<p>As an example, if I wanted to communicate the idea of a fourty five degree angle through language, I could instruct one to imagine two sticks of equal length connected at the ends, perpendicular to each other, with a third stick connecting the triangle and two equal sticks.</p>"
   ]
  },
  {
   "cell_type": "markdown",
   "metadata": {},
   "source": [
    "<p>One would hopefully imagine something along the lines of this...</p>"
   ]
  },
  {
   "cell_type": "markdown",
   "metadata": {},
   "source": [
    "<img src = \"45degreeAngle.gif\"></img>"
   ]
  },
  {
   "cell_type": "markdown",
   "metadata": {},
   "source": [
    "<p>In our example, the original concept of a stick, and the original concept of equality allowed us to create a third concept, a 45 degree triangle, without disturbing the original two concepts.</p>"
   ]
  },
  {
   "cell_type": "markdown",
   "metadata": {},
   "source": [
    "<p>As shown in our example above, we can define learning as taking some input data, and predicting (or imagining) some output, without changing the input. This definition allows us to train and test our input data to make sure that it is correct.</p>"
   ]
  },
  {
   "cell_type": "markdown",
   "metadata": {},
   "source": [
    "<p>More importantly, now that we have knowledge about our model for intelligence, we can begin to build it!</p>"
   ]
  },
  {
   "cell_type": "markdown",
   "metadata": {},
   "source": [
    "<h1>Data and Architecture</h1>"
   ]
  },
  {
   "cell_type": "markdown",
   "metadata": {},
   "source": [
    "<p>Now is a good time for me to describe the layout of my notes relative to my resources. I plan on using Stephen Welch's lecture on neural networks as the basis for the first four weeks of this independent study. Along the way I will substitute in observations and parallels I have made between Welch's lectures on neural networks, and Winston's lectures on artificial intelligence. Neural networks are a small part of what defines intelligence, however, they do describe an enormous amount about how our brains work and provide a great model for learning, the core of intelligence. In fact, Google Brain Developer Andrew Ng hypothesizes that the algorithm used in Welch's (and <a href = \"https://www.youtube.com/watch?v=q0pm3BrIUFo\">mirrored</a> in Winston's) lectures could in fact be the <a href = \"http://cs229.stanford.edu/materials/CS229-DeepLearning.pdf\">one algorithm</a> our brain uses. After an in-depth look at the mechanics behind neural networks, I will begin the Google deep learning library TensorFlow <a href = \"https://www.tensorflow.org/versions/0.6.0/tutorials/index.html\">tutorials.</a> These tutorials cover a wide variety of machine learning topics, from french translation to image recognition. I will dedicate a week to each tutorial, and attempt to create an iPythonNotebook for each subject.</p>"
   ]
  },
  {
   "cell_type": "markdown",
   "metadata": {},
   "source": [
    "<h4>Syllabus</h4>\n",
    "<table style=\"width:100%\">\n",
    "  <tr>\n",
    "    <td>Week</td>\n",
    "    <td>Subject</td>\n",
    "  </tr>\n",
    "  <tr>\n",
    "  <td>Week 1 ( 2/1/2016 - 2/5/2016 )</td>\n",
    "    <td><li>Data and Architecture</li><li>Forward Propagation</li></td>\n",
    "  </tr>\n",
    "  <tr>\n",
    "    <td>Week 2 ( 2/8/2016 - 2/12/2016 )</td>\n",
    "    <td><li>Gradient Descent</li></td>\n",
    "  </tr>\n",
    "  <tr>\n",
    "    <td>Week 3 ( 2/15/2016 - 2/19/2016 )</td>\n",
    "    <td><li>Backpropagation</li><li>Numerical Gradient Checking</li></td>\n",
    "  </tr>\n",
    "  <tr>\n",
    "    <td>Week 4 ( 2/22/2016 - 2/26/2016 )</td>\n",
    "    <td><li>Training</li><li>Testing, Overfitting, and Regularization</li></td>\n",
    "  </tr>\n",
    "  <tr>\n",
    "    <td>Week 5 ( 2/29/2016 - 3/4/2016 )</td>\n",
    "    <td><li>TensorFlow Intro</li><li>MNIST for ML Beginners</li></td>\n",
    "  </tr>\n",
    "  <tr>\n",
    "    <td>Week 6 ( 3/7/2016 - 3/11/2016 )</td>\n",
    "    <td><li>MNIST for Experts</li></td>\n",
    "  </tr>\n",
    "  <tr>\n",
    "    <td>Week 7 ( 3/14/2016 - 3/18/2016 )</td>\n",
    "    <td><li>TensorFlow Mechanics 101</li></td>\n",
    "  <tr>\n",
    "    <td>Week 8 ( 3/21/2016 - 3/25/2016 )</td>\n",
    "    <td><li>Convolutional Neural Networks</li></td>\n",
    "  </tr>\n",
    "  <tr>\n",
    "    <td>Week 9 ( 3/28/2016 - 4/1/2016 )</td>\n",
    "    <td><li>Vector Representations of Words</li></td>\n",
    "  </tr>\n",
    "  <tr>\n",
    "    <td>Week 10 ( 4/4/2016 - 4/8/2016 )</td>\n",
    "    <td><li>Recurrent Neural Networks</li></td>\n",
    "  </tr>\n",
    "  <tr>\n",
    "    <td>Week 11 ( 4/11/2016 - 4/15/2016 )</td>\n",
    "    <td><li>Sequence to Sequence Models</li></td>\n",
    "  </tr>\n",
    "  <tr>\n",
    "    <td>Week 12 ( 4/18/2016 - 4/22/2016 )</td>\n",
    "    <td><li>Mandelbrot Set</li></td>\n",
    "  </tr>\n",
    "  <tr>\n",
    "    <td>Week 13 ( 4/25/2016 - 4/29/2016 )</td>\n",
    "    <td><li>Partial Differential Equations</li></td>\n",
    "  </tr>\n",
    "  <tr>\n",
    "    <td>Week 14 ( 5/2/2016 - 5/6/2016 )</td>\n",
    "    <td><li>MNIST Data Download</li></td>\n",
    "  </tr>\n",
    "  <tr>\n",
    "    <td>Week 15 ( 5/9/2016 - 5/13/2016 )</td>\n",
    "    <td><li>Image Recognition</li></td>\n",
    "  </tr>\n",
    "</table>"
   ]
  },
  {
   "cell_type": "markdown",
   "metadata": {},
   "source": [
    "<br>\n",
    "<br>\n",
    "<br>"
   ]
  },
  {
   "cell_type": "markdown",
   "metadata": {},
   "source": [
    "<p>Before we begin building our neural network, we need to look at some naive biology to base the mechanics of our model on. </p>"
   ]
  },
  {
   "cell_type": "markdown",
   "metadata": {
    "collapsed": true
   },
   "source": [
    "<img src = \"neuron.jpg\" height=\"400\" width=\"400\"></img>"
   ]
  },
  {
   "cell_type": "markdown",
   "metadata": {
    "collapsed": true
   },
   "source": [
    "<div style = \"text-align:center\">Above is a picture of a <a href = \"https://www.google.com/search?q=neuron&espv=2&biw=1920&bih=995&source=lnms&tbm=isch&sa=X&ved=0ahUKEwj0hpDN6dbKAhUGjz4KHQdZAE4Q_AUIBigB#imgrc=Sd843BkY8wSaHM%3A\">Neuron</a></div>"
   ]
  },
  {
   "cell_type": "markdown",
   "metadata": {},
   "source": [
    "<p>Neurons and neuroscience are obviously incredibly complex subjects, so for our network we are going to abstract the basic concept of two specific and similar neurons, the artificial neuron and the perceptron (or sigmoid neuron). To quote Winston's textbook, Artificial Intelligence, \"most neurons, like the one shown [above] consist of a cell body plus one axon and many dendrites. The axon is a protuberance that delivers the neuron's output to connections with other neurons. Dendrites are protuberances that provide plenty of surface area, facilitating connection with the axons of other neurons. Dendrites often divide a great deal, forming extremely bushy dendritic trees. Axons divide to some extent, but far less than dendrites.\"</p>\n",
    "<br>\n",
    "<br>\n",
    "<img src = \"neurons.gif\"></img>\n",
    "<div style = \"text-align:center\">Source: <a href = \"http://i.imgur.com/IS81LLY.gif\">Neural Net Gif</a></div>\n"
   ]
  },
  {
   "cell_type": "markdown",
   "metadata": {},
   "source": [
    "<blockquote>\"A neuron does nothing unless the collective influence of all its inputs reaches a threshold level. Whenever that threshold level is reached, the neuron produces a full-strength output in the form of a narrow pulse that proceeds from the cell body, down the axon, and into the axon's branches. Whenever this happens, the neuron is said to fire. Because a neuron either fires or does nothing, it is said to be an all-or-none device.</blockquote>\n",
    "<br>\n",
    "<blockquote>Axons influence dendrites over narrow gaps called synapses. Stimulation at some synapses encourages neurons to fire. Stimulation at others discourages neurons from firing. There is mounting evidence that learning takes place in the vicinity of synapses and has something to do with the degree to which synapses translate the pulse traveling down one neuron's axon into excitation or inhibition of the next neuron.</blockquote>\n",
    "<br>\n",
    "<blockquote>The number of neurons in the human brain is staggering. Current estimates suggest there may be on the order of 10<sup>11</sup> neurons per person. If the number of neurons is staggering, the number of synapses must be toppling. In the cerebellum--that part of the brain that is crucial to motor coordination--a single neuron may receive inputs from as many as 10<sup>5</sup> synapses.\" </blockquote>"
   ]
  },
  {
   "cell_type": "markdown",
   "metadata": {},
   "source": [
    "<p style = \"text-align:center\">Artificial Intelligence, Patrick Winston</p>"
   ]
  },
  {
   "cell_type": "markdown",
   "metadata": {},
   "source": [
    "<br>"
   ]
  },
  {
   "cell_type": "markdown",
   "metadata": {},
   "source": [
    "<p>Winston does an excellent job further describing how we can mimic biology in our Neural Network model...</p>"
   ]
  },
  {
   "cell_type": "markdown",
   "metadata": {},
   "source": [
    "<blockquote>\"Simulated neural nets typically consist of simulated neurons. The simulated neuron is viewed as a node connected to other nodes via links that correspond to axon-synapse-dendrite connections.\"</blockquote>\n",
    "<p style = \"text-align:center\">Artificial Intelligence, Patrick Winston</p>\n",
    "<br>\n",
    "<img src = \"simulatedNeuron.png\" height = \"400\" width = \"400\"></img>"
   ]
  },
  {
   "cell_type": "markdown",
   "metadata": {},
   "source": [
    "<p>In the <a href = \"http://3.bp.blogspot.com/-7RWgohC4pYE/VhtQ8IELsLI/AAAAAAAAA6I/_XFhMbjpcCY/s1600/Simple%2BNeural%2BNetwork.png\">Diagram</a> above, X is our input (in this case not a neuron!), W is a synaptic weight, the function is our neuron and its respective activation function, and Y is the output neuron. "
   ]
  },
  {
   "cell_type": "markdown",
   "metadata": {},
   "source": [
    "<blockquote>\"Each link or (W) in the diagram is associated with a weight. Like a synapse, that weight determines the nature and strength of one neuron's influence on another. More specifically, one node's influence on another is the product of the influencing neuron's output value times the connecting link's weight. Thus, a large positive weight corresponds to strong excitation, and a small negative weight corresponds to weak inhibition.</blockquote>\n",
    "<blockquote>Each node combines the seperate influences received on its input links into an overall influence using an activation function. One simple activation function simply passes the sum of the input values through a threshold function to determine the node's output. The output of each node is either 0 or 1 depending on whether the sum of the inputs is below or above the threshold value used by the node's threshold function.</blockquote>\n",
    "<blockquote>Now you can understand what is modeled in these simplified neurons: the weights model synaptic properties; the adder models the influence-combining capability of the dendrites; and comparison with a threshold models the all-or-none characteristic imposed by electrochemical mechanisms in the cell body.\"</blockquote>"
   ]
  },
  {
   "cell_type": "markdown",
   "metadata": {},
   "source": [
    "<p style = \"text-align:center\">Artificial Intelligence, Patrick Winston</p>"
   ]
  },
  {
   "cell_type": "markdown",
   "metadata": {},
   "source": [
    "<br>\n",
    "<p>Now is a good time to introduce the example presented in Stephen Welch's lectures.</p>\n",
    "<blockquote>\"Suppose we recorded how many hours we slept, and how many hours we studied and the score we received on a test the next day. We can use artificial neural networks to predict a score based on hourse slept, and hours studying.\"</blockquote>"
   ]
  },
  {
   "cell_type": "markdown",
   "metadata": {},
   "source": [
    "<h2>Data</h2>\n",
    "<table style=\"width:100%\">\n",
    "  <tr>\n",
    "    <td>X (Hrs Sleep, Hrs Study)</td>\n",
    "    <td>y (Test Score)</td>\n",
    "  </tr>\n",
    "  <tr>\n",
    "    <td>(3, 5)</td>\n",
    "    <td>(75)</td>\n",
    "  </tr>\n",
    "    <tr>\n",
    "    <td>(5, 1)</td>\n",
    "    <td>(82)</td>\n",
    "  </tr>\n",
    "    <tr>\n",
    "    <td>(10, 2)</td>\n",
    "    <td>(93)</td>\n",
    "  </tr>\n",
    "    <tr>\n",
    "    <td>(8, 3)</td>\n",
    "    <td>(?)</td>\n",
    "  </tr>\n",
    "</table>"
   ]
  },
  {
   "cell_type": "markdown",
   "metadata": {},
   "source": [
    "<p>If you are not using the Ipython Notebook environment, then the first thing we have to do to program our Neural Network is import the necessary dependencies.</p>"
   ]
  },
  {
   "cell_type": "code",
   "execution_count": null,
   "metadata": {
    "collapsed": true
   },
   "outputs": [],
   "source": [
    "import time #Algorithm Comparison\n",
    "import numpy as np #Matrix Multiplication\n",
    "import matplotlib as mpl #Graphs\n",
    "import matplotlib.pyplot as plt #Graphs\n",
    "from scipy import optimize #BFGS Algorithm\n",
    "from mpl_toolkits.mplot3d import Axes3D #Graphs\n",
    "import matplotlib.colors as colors #Heat Maps\n",
    "import matplotlib.cm as cmx #Heat Maps"
   ]
  },
  {
   "cell_type": "markdown",
   "metadata": {},
   "source": [
    "<p>Now lets model our data.</p>"
   ]
  },
  {
   "cell_type": "markdown",
   "metadata": {},
   "source": [
    "<p>X  =  (Hours Sleeping, Hours Studying)</p>"
   ]
  },
  {
   "cell_type": "code",
   "execution_count": null,
   "metadata": {
    "collapsed": true
   },
   "outputs": [],
   "source": [
    "X = np.array(([3,5], [5,1], [10,2]), dtype=float)"
   ]
  },
  {
   "cell_type": "markdown",
   "metadata": {},
   "source": [
    "<p>y = (Test Score)</p>"
   ]
  },
  {
   "cell_type": "code",
   "execution_count": null,
   "metadata": {
    "collapsed": true
   },
   "outputs": [],
   "source": [
    "y = np.array(([75], [82], [93]), dtype=float)"
   ]
  },
  {
   "cell_type": "markdown",
   "metadata": {},
   "source": [
    "<br>\n",
    "<br>"
   ]
  },
  {
   "cell_type": "markdown",
   "metadata": {},
   "source": [
    "<p>\"The problem above is referred to as a supervised regression problem. It is supervised because we have inputs and outputs, and it is a regression because we are predicting test score, which is a continuous function.\" -Stephen Welch</p>"
   ]
  },
  {
   "cell_type": "markdown",
   "metadata": {},
   "source": [
    "<h2>Architecture</h2>"
   ]
  },
  {
   "cell_type": "markdown",
   "metadata": {},
   "source": [
    "<img src = \"abstractneuralnet.png\"></img>"
   ]
  },
  {
   "cell_type": "markdown",
   "metadata": {},
   "source": [
    "<p>Source: <a href = \"https://www.youtube.com/watch?v=bxe2T-V8XRs&list=PLiaHhY2iBX9hdHaRr6b7XevZtgZRa1PoU\">Neural Networks Demystified</a>, Stephen C Welch</p>"
   ]
  },
  {
   "cell_type": "markdown",
   "metadata": {},
   "source": [
    "<p>Our neural network is comprised of two abstract objects, neurons and synapses.</p>"
   ]
  },
  {
   "cell_type": "markdown",
   "metadata": {},
   "source": [
    "<div style = \"float:left\"><img src = \"circle.png\" width = \"100\"></img></div><div><p>Neurons: a neuron adds up all the outputs from its synapses and applies an activation function.</p>\n",
    "<p>1.  Z = X<sub>1</sub> + X<sub>2</sub> + X<sub>3</sub></p>\n",
    "<p>2. a = 1 / (1 + e<sup>-Z</sup>) Using a sigmoid activation allows our neural network to model complex non-linear patterns.</p>\n",
    "</div>"
   ]
  },
  {
   "cell_type": "markdown",
   "metadata": {},
   "source": [
    "<br></br>"
   ]
  },
  {
   "cell_type": "markdown",
   "metadata": {},
   "source": [
    "<div style = \"float:left\"><img src = \"line.jpg\" width = \"100\"></img></div><div><p>Synapses: a synapse takes a value from it's input, multiplies it by a synaptic Weight, then outputs the results.</p>\n",
    "<p>1. X*W</p>\n",
    "</div>"
   ]
  },
  {
   "cell_type": "markdown",
   "metadata": {},
   "source": [
    "<br>\n",
    "<p>This model for a perceptron is quite good so far, but our data needs to reflect the model before we can begin forward propagation. We will fix this problem by normalizing our data. We will take advantage of the fact that our test scores are out of 100 to normalize y, and we will simply divide X by the maximum value.</p>"
   ]
  },
  {
   "cell_type": "code",
   "execution_count": null,
   "metadata": {
    "collapsed": true
   },
   "outputs": [],
   "source": [
    "print('\\n')\n",
    "print('Artificial Neural Network')\n",
    "print('\\n')\n",
    "print('Input Data')\n",
    "print(X)\n",
    "print('\\n')\n",
    "print('Output Data')\n",
    "print(y)\n",
    "\n",
    "#Normalize Data\n",
    "print('\\n')\n",
    "print('Normalized Input Data')\n",
    "X = X/np.amax(X, axis=0)\n",
    "print(X)\n",
    "print('\\n')\n",
    "print('Normalized Output Data')\n",
    "y = y/100 #Max test score is 100\n",
    "print(y)"
   ]
  },
  {
   "cell_type": "markdown",
   "metadata": {},
   "source": [
    "<br>"
   ]
  },
  {
   "cell_type": "markdown",
   "metadata": {},
   "source": [
    "<p>This completes the setup of our Data and Architecture. Next we will begin Forward Propagation.</p>"
   ]
  },
  {
   "cell_type": "markdown",
   "metadata": {},
   "source": [
    "<h1>Forward Propagation</h1>"
   ]
  },
  {
   "cell_type": "markdown",
   "metadata": {},
   "source": [
    "<p>We know the mechanics of neurons and synapses now, so lets combine that knowledge with our current model as Welch does in <a href = \"https://www.youtube.com/watch?v=UJwK6jAStmg&index=2&list=PLiaHhY2iBX9hdHaRr6b7XevZtgZRa1PoU\">Neural Networks Demystified.</a></p>"
   ]
  },
  {
   "cell_type": "markdown",
   "metadata": {},
   "source": [
    "<img src = \"completeAbstractneuralNet.png\"></img>"
   ]
  },
  {
   "cell_type": "markdown",
   "metadata": {},
   "source": [
    "<p>Forward Propagation is going to involve five steps.</p>\n",
    "<li>1. Normalize our data.</li>\n",
    "<li>2. Multiply our input matrix X by our first layer synaptic weights (W<sup>1</sup>) to find Z<sup>2</sup>.</li>\n",
    "<li>3. Apply our sigmoid activation function a<sup>2</sup> = 1 / (1 + e<sup>-Z</sup>)</li>\n",
    "<li>4. Multiply a<sup>2</sup> by our second layer synaptic weights (W<sup>2</sup>) to find Z<sup>3</sup>.</li>\n",
    "<li>5. Apply our sigmoid activation function to Z<sup>3</sup> to find yHat, or in other words, our predicted output!</li>"
   ]
  },
  {
   "cell_type": "markdown",
   "metadata": {
    "collapsed": true
   },
   "source": [
    "<p>Import pylab inline, if using Ipython Notebook.</p>"
   ]
  },
  {
   "cell_type": "code",
   "execution_count": 4,
   "metadata": {
    "collapsed": false
   },
   "outputs": [
    {
     "name": "stdout",
     "output_type": "stream",
     "text": [
      "Populating the interactive namespace from numpy and matplotlib\n"
     ]
    }
   ],
   "source": [
    "%pylab inline\n",
    "X = np.array(([3,5], [5,1], [10,2]), dtype=float)\n",
    "y = np.array(([75], [82], [93]), dtype=float)"
   ]
  },
  {
   "cell_type": "code",
   "execution_count": 2,
   "metadata": {
    "collapsed": false
   },
   "outputs": [
    {
     "data": {
      "text/plain": [
       "array([[  3.,   5.],\n",
       "       [  5.,   1.],\n",
       "       [ 10.,   2.]])"
      ]
     },
     "execution_count": 2,
     "metadata": {},
     "output_type": "execute_result"
    }
   ],
   "source": [
    "X"
   ]
  },
  {
   "cell_type": "code",
   "execution_count": 5,
   "metadata": {
    "collapsed": false
   },
   "outputs": [
    {
     "data": {
      "text/plain": [
       "array([[ 75.],\n",
       "       [ 82.],\n",
       "       [ 93.]])"
      ]
     },
     "execution_count": 5,
     "metadata": {},
     "output_type": "execute_result"
    }
   ],
   "source": [
    "y"
   ]
  },
  {
   "cell_type": "markdown",
   "metadata": {},
   "source": [
    "<p>1. Normalize Data</p>"
   ]
  },
  {
   "cell_type": "code",
   "execution_count": 6,
   "metadata": {
    "collapsed": true
   },
   "outputs": [],
   "source": [
    "X = X/np.amax(X, axis=0)\n",
    "y = y/100 #Max test score is 100"
   ]
  },
  {
   "cell_type": "code",
   "execution_count": 7,
   "metadata": {
    "collapsed": false
   },
   "outputs": [
    {
     "data": {
      "text/plain": [
       "array([[ 0.3,  1. ],\n",
       "       [ 0.5,  0.2],\n",
       "       [ 1. ,  0.4]])"
      ]
     },
     "execution_count": 7,
     "metadata": {},
     "output_type": "execute_result"
    }
   ],
   "source": [
    "X"
   ]
  },
  {
   "cell_type": "code",
   "execution_count": 8,
   "metadata": {
    "collapsed": false
   },
   "outputs": [
    {
     "data": {
      "text/plain": [
       "array([[ 0.75],\n",
       "       [ 0.82],\n",
       "       [ 0.93]])"
      ]
     },
     "execution_count": 8,
     "metadata": {},
     "output_type": "execute_result"
    }
   ],
   "source": [
    "y"
   ]
  },
  {
   "cell_type": "markdown",
   "metadata": {},
   "source": [
    "<p>2. Multiply our input matrix X by our first layer synaptic weights (W<sup>1</sup>) to find Z<sup>2</sup>.</p>"
   ]
  },
  {
   "cell_type": "markdown",
   "metadata": {},
   "source": [
    "<p>For now, lets just give W1 and W2 random values.</p>"
   ]
  },
  {
   "cell_type": "code",
   "execution_count": 9,
   "metadata": {
    "collapsed": true
   },
   "outputs": [],
   "source": [
    "W1 = np.random.randn(2, 3)\n",
    "W2 = np.random.randn(3,1)"
   ]
  },
  {
   "cell_type": "code",
   "execution_count": 10,
   "metadata": {
    "collapsed": false
   },
   "outputs": [
    {
     "data": {
      "text/plain": [
       "array([[ 1.12212735,  0.32876404, -1.14481176],\n",
       "       [-0.46556322, -0.22222824, -0.22569358]])"
      ]
     },
     "execution_count": 10,
     "metadata": {},
     "output_type": "execute_result"
    }
   ],
   "source": [
    "W1"
   ]
  },
  {
   "cell_type": "code",
   "execution_count": 11,
   "metadata": {
    "collapsed": false
   },
   "outputs": [
    {
     "data": {
      "text/plain": [
       "array([[ 0.26252232],\n",
       "       [ 1.07193491],\n",
       "       [-0.44827738]])"
      ]
     },
     "execution_count": 11,
     "metadata": {},
     "output_type": "execute_result"
    }
   ],
   "source": [
    "W2"
   ]
  },
  {
   "cell_type": "markdown",
   "metadata": {},
   "source": [
    "<p>We can take advantage of numpy's dot method to multiply our matrices X and W<sup>1</sup> to find Z<sup>2</sup></p>"
   ]
  },
  {
   "cell_type": "code",
   "execution_count": 12,
   "metadata": {
    "collapsed": true
   },
   "outputs": [],
   "source": [
    "z2 = np.dot(X, W1)"
   ]
  },
  {
   "cell_type": "code",
   "execution_count": 13,
   "metadata": {
    "collapsed": false
   },
   "outputs": [
    {
     "data": {
      "text/plain": [
       "array([[-0.12892502, -0.12359903, -0.5691371 ],\n",
       "       [ 0.46795103,  0.11993637, -0.61754459],\n",
       "       [ 0.93590206,  0.23987274, -1.23508919]])"
      ]
     },
     "execution_count": 13,
     "metadata": {},
     "output_type": "execute_result"
    }
   ],
   "source": [
    "z2"
   ]
  },
  {
   "cell_type": "markdown",
   "metadata": {},
   "source": [
    "<p>3. Apply our sigmoid activation function a<sup>2</sup> = 1 / (1 + e<sup>-Z</sup>)</p>\n"
   ]
  },
  {
   "cell_type": "code",
   "execution_count": 14,
   "metadata": {
    "collapsed": true
   },
   "outputs": [],
   "source": [
    "def sigmoid(z):\n",
    "    return 1/(1+np.exp(-z))"
   ]
  },
  {
   "cell_type": "markdown",
   "metadata": {},
   "source": [
    "<p>Before we go further we should test our sigmoid function.</p>"
   ]
  },
  {
   "cell_type": "code",
   "execution_count": 21,
   "metadata": {
    "collapsed": false
   },
   "outputs": [
    {
     "data": {
      "image/png": "[encoded data removed]",
      "text/plain": [
       "<matplotlib.figure.Figure at 0x7f7f4411b9b0>"
      ]
     },
     "metadata": {},
     "output_type": "display_data"
    }
   ],
   "source": [
    "testInput = np.arange(-6,6,0.01)\n",
    "plot(testInput, sigmoid(testInput), linewidth= 2)\n",
    "grid(1)"
   ]
  },
  {
   "cell_type": "markdown",
   "metadata": {},
   "source": [
    "<p>Looks Good!</p>"
   ]
  },
  {
   "cell_type": "code",
   "execution_count": 15,
   "metadata": {
    "collapsed": true
   },
   "outputs": [],
   "source": [
    "a2 = sigmoid(z2)"
   ]
  },
  {
   "cell_type": "code",
   "execution_count": 16,
   "metadata": {
    "collapsed": false
   },
   "outputs": [
    {
     "data": {
      "text/plain": [
       "array([[ 0.46781332,  0.46913952,  0.36143596],\n",
       "       [ 0.61489868,  0.5299482 ,  0.3503401 ],\n",
       "       [ 0.71827115,  0.55968229,  0.22529194]])"
      ]
     },
     "execution_count": 16,
     "metadata": {},
     "output_type": "execute_result"
    }
   ],
   "source": [
    "a2"
   ]
  },
  {
   "cell_type": "markdown",
   "metadata": {},
   "source": [
    "<p>4. Multiply a<sup>2</sup> by our second layer synaptic weights (W<sup>2</sup>) to find Z<sup>3</sup>.</p>\n"
   ]
  },
  {
   "cell_type": "code",
   "execution_count": 17,
   "metadata": {
    "collapsed": true
   },
   "outputs": [],
   "source": [
    "z3 = np.dot(z2, W2)"
   ]
  },
  {
   "cell_type": "code",
   "execution_count": 18,
   "metadata": {
    "collapsed": false
   },
   "outputs": [
    {
     "data": {
      "text/plain": [
       "array([[ 0.08879548],\n",
       "       [ 0.52824285],\n",
       "       [ 1.05648569]])"
      ]
     },
     "execution_count": 18,
     "metadata": {},
     "output_type": "execute_result"
    }
   ],
   "source": [
    "z3"
   ]
  },
  {
   "cell_type": "markdown",
   "metadata": {},
   "source": [
    "<p>5. Apply our sigmoid activation function to Z<sup>3</sup> to find yHat, or in other words, our predicted output!</p>"
   ]
  },
  {
   "cell_type": "code",
   "execution_count": 19,
   "metadata": {
    "collapsed": true
   },
   "outputs": [],
   "source": [
    "yHat = sigmoid(z3)"
   ]
  },
  {
   "cell_type": "code",
   "execution_count": 20,
   "metadata": {
    "collapsed": false
   },
   "outputs": [
    {
     "data": {
      "text/plain": [
       "array([[ 0.5221843 ],\n",
       "       [ 0.62907319],\n",
       "       [ 0.74201838]])"
      ]
     },
     "execution_count": 20,
     "metadata": {},
     "output_type": "execute_result"
    }
   ],
   "source": [
    "yHat"
   ]
  },
  {
   "cell_type": "markdown",
   "metadata": {},
   "source": [
    "<p>And there you have it! We have successfully predicted Test Scores given actual \"real-life\" examples of combinations of sleep and study. Why are our values so  poor?</p>"
   ]
  },
  {
   "cell_type": "markdown",
   "metadata": {},
   "source": [
    "<p>We have run into our first interesting problem in artificial intelligence. Although we have successfully modeled the functionality of a neuron and weight, our function does not give us good predictions. The problem is that we have not trained our network. Much like if we were to present the 45 degree triangle example to a baby, our neural network object is not smart enough to give good predictions or \"imagine\" a good answer. The solution is to train our network, but we have a few things to do first.</p>"
   ]
  },
  {
   "cell_type": "markdown",
   "metadata": {},
   "source": [
    "<h4>Basic Feed Forward (Forward Propagating) Neural Network</h4>"
   ]
  },
  {
   "cell_type": "code",
   "execution_count": 25,
   "metadata": {
    "collapsed": false
   },
   "outputs": [],
   "source": [
    "#Neural Network\n",
    "class NeuralNetwork(object):\n",
    "    def __init__(self):\n",
    "        #Hyperparameters\n",
    "        self.inputLayerSize = 2\n",
    "        self.outputLayerSize = 1\n",
    "        self.hiddenLayerSize = 3\n",
    "        \n",
    "        #Synaptic Weights\n",
    "        self.W1 = np.random.randn(self.inputLayerSize, self.hiddenLayerSize)\n",
    "        self.W2 = np.random.randn(self.hiddenLayerSize, self.outputLayerSize)\n",
    "        \n",
    "    def forward(self, X):\n",
    "        #Propagate inputs feed forward through our network\n",
    "        self.z2 = np.dot(X, self.W1)\n",
    "        self.a2 = self.sigmoid(self.z2)\n",
    "        self.z3 = np.dot(self.a2, self.W2)\n",
    "        yHat = self.sigmoid(self.z3)\n",
    "        return yHat\n",
    "    \n",
    "    def sigmoid(self, z):\n",
    "        #Apply sigmoid activation function\n",
    "        return 1/(1+np.exp(-z))"
   ]
  },
  {
   "cell_type": "code",
   "execution_count": 26,
   "metadata": {
    "collapsed": false
   },
   "outputs": [],
   "source": [
    "NN = NeuralNetwork()"
   ]
  },
  {
   "cell_type": "code",
   "execution_count": 28,
   "metadata": {
    "collapsed": false
   },
   "outputs": [],
   "source": [
    "yHat = NN.forward(X)"
   ]
  },
  {
   "cell_type": "code",
   "execution_count": 29,
   "metadata": {
    "collapsed": false
   },
   "outputs": [
    {
     "data": {
      "text/plain": [
       "array([[ 0.57696449],\n",
       "       [ 0.61056667],\n",
       "       [ 0.61731457]])"
      ]
     },
     "execution_count": 29,
     "metadata": {},
     "output_type": "execute_result"
    }
   ],
   "source": [
    "yHat"
   ]
  },
  {
   "cell_type": "markdown",
   "metadata": {},
   "source": [
    "<p>That finishes week 1. We now have a Neural Network Object that will predict test scores using random weights given input values for X. Before we move on to week 2, lets have a look at the error in our predictions.</p>"
   ]
  },
  {
   "cell_type": "code",
   "execution_count": 30,
   "metadata": {
    "collapsed": false
   },
   "outputs": [
    {
     "data": {
      "text/plain": [
       "<matplotlib.legend.Legend at 0x7f7f440a8518>"
      ]
     },
     "execution_count": 30,
     "metadata": {},
     "output_type": "execute_result"
    },
    {
     "data": {
      "image/png": "[encoded data removed]",
      "text/plain": [
       "<matplotlib.figure.Figure at 0x7f7f440a8f60>"
      ]
     },
     "metadata": {},
     "output_type": "display_data"
    }
   ],
   "source": [
    "#Compare estimate, yHat, to actually score\n",
    "bar([0,1,2], y, width = 0.35, alpha=0.8)\n",
    "bar([0.35,1.35,2.35],yHat, width = 0.35, color='r', alpha=0.8)\n",
    "grid(1)\n",
    "legend(['y', 'yHat'])"
   ]
  },
  {
   "cell_type": "markdown",
   "metadata": {},
   "source": [
    "<p>To reiterate, our network is not making very good predictions. We need to fix this problem by minimizing the amount of error between our real life test values, y, and our Neural Network's predictions for y in regards to the values for the synaptic weights, yHat. We will explore the solution to this problem, Gradient Descent, in week 2.</p> "
   ]
  }
 ],
 "metadata": {
  "kernelspec": {
   "display_name": "Python 3",
   "language": "python",
   "name": "python3"
  },
  "language_info": {
   "codemirror_mode": {
    "name": "ipython",
    "version": 3
   },
   "file_extension": ".py",
   "mimetype": "text/x-python",
   "name": "python",
   "nbconvert_exporter": "python",
   "pygments_lexer": "ipython3",
   "version": "3.4.3"
  }
 },
 "nbformat": 4,
 "nbformat_minor": 0
}
