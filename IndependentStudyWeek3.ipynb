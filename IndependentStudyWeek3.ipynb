{
 "cells": [
  {
   "cell_type": "markdown",
   "metadata": {},
   "source": [
    "<h1>Backpropagation</h1>"
   ]
  },
  {
   "cell_type": "markdown",
   "metadata": {},
   "source": [
    "<p>The goal of Backpropagation is to find a function that we can program for our partial derivatives &part;J/&part;W<sup>(1)</sup> and &part;J/&part;W<sup>(2)</sup>. The reason we are finding two partial derivatives is because we have two layers of synaptic weights that determine our data flow. If one needed to modify their network in the future, they could simply calculate a partial derivative for each layer of weights.</p>"
   ]
  },
  {
   "cell_type": "markdown",
   "metadata": {},
   "source": [
    "<p>The shape of our synaptic weight matrices determine the shape of the corresponding partial derivative matrices. Let's verify these shapes using numpy's shape function.</p>"
   ]
  },
  {
   "cell_type": "code",
   "execution_count": 2,
   "metadata": {
    "collapsed": false
   },
   "outputs": [
    {
     "name": "stdout",
     "output_type": "stream",
     "text": [
      "Populating the interactive namespace from numpy and matplotlib\n"
     ]
    }
   ],
   "source": [
    "%pylab inline"
   ]
  },
  {
   "cell_type": "code",
   "execution_count": 3,
   "metadata": {
    "collapsed": true
   },
   "outputs": [],
   "source": [
    "inputLayerSize = 2\n",
    "outputLayerSize = 1\n",
    "hiddenLayerSize = 3"
   ]
  },
  {
   "cell_type": "code",
   "execution_count": 10,
   "metadata": {
    "collapsed": false
   },
   "outputs": [
    {
     "data": {
      "text/plain": [
       "array([[ 1.62669945,  0.05501067, -0.03700891],\n",
       "       [ 1.12386771, -1.07077834,  0.75633279]])"
      ]
     },
     "execution_count": 10,
     "metadata": {},
     "output_type": "execute_result"
    }
   ],
   "source": [
    "W1 = np.random.randn(inputLayerSize, hiddenLayerSize)\n",
    "W1"
   ]
  },
  {
   "cell_type": "code",
   "execution_count": 11,
   "metadata": {
    "collapsed": false
   },
   "outputs": [
    {
     "data": {
      "text/plain": [
       "array([[-0.81128116],\n",
       "       [ 0.07253303],\n",
       "       [ 0.37638621]])"
      ]
     },
     "execution_count": 11,
     "metadata": {},
     "output_type": "execute_result"
    }
   ],
   "source": [
    "W2 = np.random.randn(hiddenLayerSize, outputLayerSize)\n",
    "W2"
   ]
  },
  {
   "cell_type": "code",
   "execution_count": 12,
   "metadata": {
    "collapsed": false
   },
   "outputs": [
    {
     "data": {
      "text/plain": [
       "(2, 3)"
      ]
     },
     "execution_count": 12,
     "metadata": {},
     "output_type": "execute_result"
    }
   ],
   "source": [
    "W1.shape"
   ]
  },
  {
   "cell_type": "code",
   "execution_count": 13,
   "metadata": {
    "collapsed": false
   },
   "outputs": [
    {
     "data": {
      "text/plain": [
       "(3, 1)"
      ]
     },
     "execution_count": 13,
     "metadata": {},
     "output_type": "execute_result"
    }
   ],
   "source": [
    "W2.shape"
   ]
  },
  {
   "cell_type": "markdown",
   "metadata": {},
   "source": [
    "<p>So &part;J/&part;W<sup>(1)</sup> will have shape (2,3), and &part;J/&part;W<sup>(2)</sup> will have shape (3,1).</p>"
   ]
  },
  {
   "cell_type": "markdown",
   "metadata": {},
   "source": [
    "<p>Our cost function so far is J = &Sigma; 1/2( y - f( f( XW<sup>(1)</sup> ) W<sup>(2)</sup> ) )<sup>2</sup>.</p>\n",
    "<br>"
   ]
  },
  {
   "cell_type": "markdown",
   "metadata": {},
   "source": [
    "<h2>Deriving &part;J/&part;W<sup>(2)</sup></h2>\n",
    "<p>Let's work on &part;J/&part;W<sup>(2)</sup> first.</p>\n",
    "<li>&part;J/&part;W<sup>(2)</sup> = &Sigma;1/2( y - yHat )<sup>2</sup></li>"
   ]
  },
  {
   "cell_type": "markdown",
   "metadata": {},
   "source": [
    "<p>You may recall from your calculus classes that we have a nifty rule called the sum rule which states \"the derivative of the sum is equal to the sum of the derivatives. We are going to take advantage of this property and calculate our gradients one by one, batch style, one by one and then sum them instead of accounting for the summation in our equations. This allows us to rewrite our partial derivative as...</p>\n",
    "<br>\n",
    "<li>&part;J/&part;W<sup>(2)</sup> = 1/2( y - yHat )<sup>2</sup></li>"
   ]
  },
  {
   "cell_type": "markdown",
   "metadata": {},
   "source": [
    "<p>The second thing you may recall from your calculus classes is the power rule. Using the power rule we multiply the 1/2 by our exponent 2, and our partial derivative becomes...</p>\n",
    "<br>\n",
    "<li>&part;J/&part;W<sup>(2)</sup> = ( y - yHat )</li>"
   ]
  },
  {
   "cell_type": "markdown",
   "metadata": {},
   "source": [
    "<p>The THIRD thing you may recall from your calculus classes is the powerful chain rule. The chain rule is somewhat more complicated than the power or summation rule of differentiation.</p>\n",
    "<br>\n",
    "<p>Chain Rule, f of g prime is equal to g prime times f prime of g.</p>\n",
    "<li>( f o g )' = (f' 0 g ) * g'</li>"
   ]
  },
  {
   "cell_type": "markdown",
   "metadata": {},
   "source": [
    "<p>ex.\n",
    "<br>\n",
    "d/dx( 2x + 3x<sup>3</sup> )<sup>2</sup> = 2( 2x + 3x<sup>3</sup> )( 2 + 9x<sup>2</sup> )"
   ]
  },
  {
   "cell_type": "markdown",
   "metadata": {},
   "source": [
    "<p>Another way to express the chain rule is as the product of derivatives, \n",
    "<br>\n",
    "dZ/dX = dZ/dY * dY/dX\n",
    "<br>\n",
    "This will be really helpful later.</p>"
   ]
  },
  {
   "cell_type": "markdown",
   "metadata": {},
   "source": [
    "<li>&part;J/&part;W<sup>(2)</sup> = ( y - yHat )</li>\n",
    "<p>In our function, the derivative of y is simply zero.</p>\n",
    "<li>&part;J/&part;W<sup>(2)</sup> = ( y- yHat )</li>\n",
    "<p>yHat on the other hand, changes with respect to W2, so using the chain rule and multiplying by the partial derivative of yHat, our partial derivative becomes...</p>\n",
    "<br>\n",
    "<li>&part;J/&part;W<sup>(2)</sup> = -( y- yHat )&part;yHat/&part;W<sup>(2)</sup></li>"
   ]
  },
  {
   "cell_type": "markdown",
   "metadata": {},
   "source": [
    "<p>We need to put yHat in terms of W2. We know from our equations that yHat = 1/1+e<sup>-Z<sup>(3)</sup></sup>or, yHat = f(Z<sup>(3)</sup>. "
   ]
  },
  {
   "cell_type": "markdown",
   "metadata": {},
   "source": [
    "<p>From the chain rule, let's use the products of derivatives and rewrite our equation in terms of f(Z<sup>(3)</sup>).</p>\n",
    "<br>\n",
    "<li>&part;J/&part;W<sup>(2)</sup> = -( y- yHat )&part;yHat/&part;Z<sup>(3)</sup> * &part;Z<sup>(3)</sup>/&part;W<sup>(2)</sup></li>"
   ]
  },
  {
   "cell_type": "markdown",
   "metadata": {},
   "source": [
    "<p>To find &part;yHat/&part;Z<sup>(3)</sup> (our second term from the products of derivatives), we need to differentiate our activaction function f(z).</p>"
   ]
  },
  {
   "cell_type": "markdown",
   "metadata": {},
   "source": [
    "<li>f(z) = 1/1+e<sup>-z</sup></li>\n",
    "<br>\n",
    "<li>Using the division rule, f'g - g'f/g<sup>2</sup></li>\n",
    "<br>\n",
    "<li>f'(z) = 1<sup>u</sup>/1+e<sup>z</sup>v</li>\n",
    "<br>\n",
    "<li>u'v - uv' / g<sup>2</sup> = 0*v - 1*-e<sup>-z</sup> / (1+e<sup>-z</sup>)<sup>2</sup></li>\n",
    "<br>\n",
    "<li>f'(z) = e<sup>-z</sup> / ( 1 + e<sup>-z</sup>)<sup>2</sup>"
   ]
  },
  {
   "cell_type": "markdown",
   "metadata": {},
   "source": [
    "<p>We can now replace &part;yHat/&part;Z<sup>(3)</sup> with f'(Z<sup>(3)</sup>)</p>\n",
    "<br>\n",
    "<li>&part;J/&part;W<sup>(2)</sup> = -( y- yHat )f'(Z<sup>(3)</sup>) * &part;Z<sup>(3)</sup>/&part;W<sup>(2)</sup></li>"
   ]
  },
  {
   "cell_type": "markdown",
   "metadata": {},
   "source": [
    "<p>Now is a good time to switch back to our neural network and define a method to calculate sigmoid prime.</p>"
   ]
  },
  {
   "cell_type": "markdown",
   "metadata": {},
   "source": [
    "<p>The final term we have to differentiate is &part;Z<sup>(3)</sup>/&part;W<sup>(2)</sup>."
   ]
  },
  {
   "cell_type": "code",
   "execution_count": 14,
   "metadata": {
    "collapsed": true
   },
   "outputs": [],
   "source": [
    "#Sigmoid Function\n",
    "def sigmoid(z):\n",
    "     #Apply sigmoid activation function to scalar, vector, or matrix\n",
    "    return 1/(1+np.exp(-z))"
   ]
  },
  {
   "cell_type": "code",
   "execution_count": 15,
   "metadata": {
    "collapsed": true
   },
   "outputs": [],
   "source": [
    "#Sigmoid' Function\n",
    "def sigmoidPrime(z):\n",
    "    return np.exp(-z)/((1+np.exp(-z))**2)"
   ]
  },
  {
   "cell_type": "markdown",
   "metadata": {},
   "source": [
    "<p>If we implemented our derivative correctly, our sigmoidPrime function should be largest where the sigmoid function is the steepest.</p>"
   ]
  },
  {
   "cell_type": "code",
   "execution_count": 16,
   "metadata": {
    "collapsed": false
   },
   "outputs": [
    {
     "data": {
      "text/plain": [
       "<matplotlib.legend.Legend at 0x7f7be692fa90>"
      ]
     },
     "execution_count": 16,
     "metadata": {},
     "output_type": "execute_result"
    },
    {
     "data": {
      "image/png": "[encoded data removed]",
      "text/plain": [
       "<matplotlib.figure.Figure at 0x7f7be69c1e48>"
      ]
     },
     "metadata": {},
     "output_type": "display_data"
    }
   ],
   "source": [
    "testValues = np.arange(-5,5,0.01)\n",
    "plot(testValues, sigmoid(testValues), linewidth=2)\n",
    "plot(testValues, sigmoidPrime(testValues), linewidth=2)\n",
    "grid(1)\n",
    "legend(['sigmoid', 'sigmoidPrime'])"
   ]
  },
  {
   "cell_type": "markdown",
   "metadata": {},
   "source": [
    "<p>Looks Good!</p>"
   ]
  },
  {
   "cell_type": "markdown",
   "metadata": {},
   "source": [
    "<p>We know from equation 3 that Z is dependent on a<sup>(2)</sup> and the weights from the second layer.</p>\n",
    "<br>\n",
    "<li>3. Z<sup>(3)</sup> = a<sup>(2)</sup>W<sup>(2)</sup></li>"
   ]
  },
  {
   "cell_type": "markdown",
   "metadata": {},
   "source": [
    "<p>If we rewrite our equation as a<sup>(2)</sup> = Z<sup>(3)</sup> / W<sup>(2)</sup>, we can see that there is a linear relationship between Z and W, where a is the slope.</p> "
   ]
  },
  {
   "cell_type": "markdown",
   "metadata": {},
   "source": [
    "<p>Stephen Welch makes a great point in his tutorial on Neural Networks about what is actually happening here.</p>\n",
    "<br>\n",
    "<p>\"Another way to think about what our calculus is doing here is that it is backpropagating the error to each weight. By multiplying by the activity on each synapse, the weights that contribute more to the overall error will have larger activations, yield larger &part;J/&part;W<sup>(2)</sup> values, and will be changed more when we perform gradient descent!</p>"
   ]
  },
  {
   "cell_type": "code",
   "execution_count": 39,
   "metadata": {
    "collapsed": false
   },
   "outputs": [],
   "source": [
    "yminusyHat = np.array(([\"-y-yHat\"],[\"-y-yHat\"],[\"-y-yHat\"]))"
   ]
  },
  {
   "cell_type": "code",
   "execution_count": 40,
   "metadata": {
    "collapsed": false
   },
   "outputs": [],
   "source": [
    "Z3 = np.array(([\"f'(z3)\"],[\"f'(z3)\"],[\"f'(z3)\"]))"
   ]
  },
  {
   "cell_type": "code",
   "execution_count": 41,
   "metadata": {
    "collapsed": true
   },
   "outputs": [],
   "source": [
    "delta3 = np.array(([\"delta3\"],[\"delta3\"],[\"delta3\"]))"
   ]
  },
  {
   "cell_type": "markdown",
   "metadata": {},
   "source": [
    "<li>&part;J/&part;W<sup>(2)</sup> = -( y- yHat )f'(Z<sup>(3)</sup>) * &part;Z<sup>(3)</sup>/&part;W<sup>(2)</sup></li>"
   ]
  },
  {
   "cell_type": "code",
   "execution_count": 42,
   "metadata": {
    "collapsed": false
   },
   "outputs": [
    {
     "data": {
      "text/plain": [
       "array([['-y-yHat'],\n",
       "       ['-y-yHat'],\n",
       "       ['-y-yHat']], \n",
       "      dtype='<U7')"
      ]
     },
     "execution_count": 42,
     "metadata": {},
     "output_type": "execute_result"
    }
   ],
   "source": [
    "yminusyHat"
   ]
  },
  {
   "cell_type": "markdown",
   "metadata": {},
   "source": [
    "<br>\n",
    "<p>The value of -(y-yHat) * f'(Z<sup>(3)</sup>) is also referred to as the backpropagating error, &delta;<sup>(3)</sup></p>"
   ]
  },
  {
   "cell_type": "code",
   "execution_count": 43,
   "metadata": {
    "collapsed": false
   },
   "outputs": [
    {
     "data": {
      "text/plain": [
       "array([[\"f'(z3)\"],\n",
       "       [\"f'(z3)\"],\n",
       "       [\"f'(z3)\"]], \n",
       "      dtype='<U6')"
      ]
     },
     "execution_count": 43,
     "metadata": {},
     "output_type": "execute_result"
    }
   ],
   "source": [
    "Z3"
   ]
  },
  {
   "cell_type": "code",
   "execution_count": 45,
   "metadata": {
    "collapsed": false
   },
   "outputs": [
    {
     "data": {
      "text/plain": [
       "array([['delta3'],\n",
       "       ['delta3'],\n",
       "       ['delta3']], \n",
       "      dtype='<U6')"
      ]
     },
     "execution_count": 45,
     "metadata": {},
     "output_type": "execute_result"
    }
   ],
   "source": [
    "delta3"
   ]
  },
  {
   "cell_type": "markdown",
   "metadata": {},
   "source": [
    "<li>We determined that &part;Z<sup>(3)</sup>/&part;W<sup>(2)</sup> is the activity, a<sup>(2)</sup> of each synapse, Therefore, if we transpose a<sup>(2)</sup> and multiply by &delta;<sup>(3)</sup>, we find &part;J/&part;W<sup>(2)</sup>!\n",
    "<br>\n",
    "<br>\n",
    "<li>&part;J/&part;W<sup>(2)</sup> = (a<sup>(2)</sup>)<sup>T</sup>&delta;<sup>(3)</sup></li>\n",
    "<li>&delta;<sup>(3)</sup> = - ( y - yHat ) f '( Z<sup>(3)</sup>)</li>"
   ]
  },
  {
   "cell_type": "markdown",
   "metadata": {},
   "source": [
    "<h2>Deriving &part;J/&part;W<sup>(1)</sup></h2>"
   ]
  },
  {
   "cell_type": "markdown",
   "metadata": {},
   "source": [
    "<p>As you may recall, our function for &part;J/&part;W<sup>(1)</sup> is...</p>\n",
    "<br>\n",
    "<li>&part;J/&part;W<sup>(1)</sup> = 1/2( y - yHat )<sup>2</sup></li>"
   ]
  },
  {
   "cell_type": "markdown",
   "metadata": {},
   "source": [
    "<p>We can start our derivation the same way as for &part;J/&part;W<sup>(2)</sup> = 1/2( y - yHat )<sup>2</sup> by using the power rule to get,</p>\n",
    "<br>\n",
    "<li>&part;J/&part;W<sup>(1)</sup> = ( y - yHat )</li>"
   ]
  },
  {
   "cell_type": "markdown",
   "metadata": {},
   "source": [
    "<p>Next we apply the chain rule,</p>\n",
    "<br>\n",
    "<li>&part;J&part;W<sup>1</sup> = -( y - yHat )&part;yHat/&part;W<sup>(1)</sup></li>\n",
    "<li>&part;J&part;W<sup>1</sup> = -( y - yHat ) * &part;yHat/&part;Z<sup>(3)</sup> * &part;yHat/&part;W<sup>(1)</sup></li>"
   ]
  },
  {
   "cell_type": "markdown",
   "metadata": {},
   "source": [
    "<p>We can differentiate &part;yHat/&part;Z<sup>(3)</sup> the same way as for &part;J/&part;W<sup>(2)</sup>,</p>\n",
    "<br>\n",
    "<li>&part;J&part;W<sup>1</sup> = -( y - yHat ) * f '( Z<sup>(3)</sup>) * &part;yHat/&part;W<sup>(1)</sup></li>\n",
    "<li>&delta;<sup>(3)</sup> = -( y - yHat ) f '(Z<sup>(3)</sup>)</li>"
   ]
  },
  {
   "cell_type": "markdown",
   "metadata": {},
   "source": [
    "<p>To find the derivative across our synapses, we use the product of derivatives to get,</p>\n",
    "<br>\n",
    "<li>&part;J/&part;W<sup>(3)</sup> = &delta;<sup>(3)</sup> &part;Z<sup>(3)</sup>/&part;a<sup>(2)</sup> &part;a<sup>(2)</sup>/&part;W<sup>(1)</sup></li>"
   ]
  },
  {
   "cell_type": "markdown",
   "metadata": {},
   "source": [
    "<p>This is different than our calculation for &part;J/&part;W<sup>(2)</sup>, because rather than a<sup>(2)</sup> being our slope, it is rather W<sup>(1)</sup> because we are trying to find the slope of &part;Z<sup>(3)</sup>/&part;a<sup>(2)</sup>.</p>\n",
    "<br>\n",
    "<li>Z<sup>(3)</sup> / a<sup>(2)</sup> = W<sup>(2)</sup></li>"
   ]
  },
  {
   "cell_type": "markdown",
   "metadata": {},
   "source": [
    "<p>Therefore, the next step is to multiply &delta;<sup>(3)</sup> by W<sup>(2)</sup><sup>T</sup></p>\n",
    "<br>\n",
    "<li>&part;J/&part;W<sup>(1)</sup> = &delta;<sup>(3)</sup> ( W<sup>(2)</sup> )<sup>T</sup> &part;a<sup>(2)</sup>/&part;W<sup>(1)</sup></li>"
   ]
  },
  {
   "cell_type": "markdown",
   "metadata": {},
   "source": [
    "<p>The next step is to derive &part;a<sup>(2)</sup>/&part;W<sup>(1)</sup></p>\n",
    "<br>\n",
    "<li>Using the product of derivatives, &part;J/&part;W<sup>(1)</sup> = &delta;<sup>(3)</sup> ( W<sup>(2)</sup> )<sup>T</sup> &part;a<sup>(2)</sup>/&part;Z<sup>(2)</sup> &part;Z<sup>(2)</sup>/&part;W<sup>(1)</sup></li>"
   ]
  },
  {
   "cell_type": "markdown",
   "metadata": {},
   "source": [
    "<p>From deriving &part;J/&part;W<sup>(2)</sup>, we know that,</p>\n",
    "<br>\n",
    "<li>&part;a<sup>(2)</sup>/&part;Z<sup>(2)</sup> = f '( Z<sup>(2)</sup> )</li>"
   ]
  },
  {
   "cell_type": "markdown",
   "metadata": {},
   "source": [
    "<p>This makes our partial derivative,</p>\n",
    "<br>\n",
    "<li>&part;J/&part;W<sup>(1)</sup> = &delta;<sup>(3)</sup> ( W<sup>(2)</sup> )<sup>T</sup> f '( Z<sup>(2)</sup> ) &part;Z<sup>(2)</sup>/&part;W<sup>(1)</sup></li>"
   ]
  },
  {
   "cell_type": "markdown",
   "metadata": {},
   "source": [
    "<p>There is a simple linear relationship between Z<sup>(2)</sup> and W<sup>(1)</sup>, from equation 1. Z<sup>(2)</sup> = XW<sup>(1)</sup>, where the slope is simply X. Now we have all the pieces of our partial derivative!</p>\n",
    "<br>\n",
    "<li>&part;J/&part;W<sup>(1)</sup> = X<sup>T</sup> &delta;<sup>(3)</sup> ( W<sup>(2)</sup> )<sup>T</sup> f '( Z<sup>(2)</sup> )</li>\n",
    "<li>&delta;<sup>(2)</sup> = &delta;<sup>(3)</sup> ( W<sup>(2)</sup> )<sup>T</sup> f '( Z<sup>(2)</sup> )</li>"
   ]
  },
  {
   "cell_type": "markdown",
   "metadata": {},
   "source": [
    "<p>Our full list of equations becomes...</p>\n",
    "<br>\n",
    "<h4>Equations</h4>\n",
    "<li>1. Z<sup>(2)</sup> = XW<sup>(1)</sup></li>\n",
    "<li>2. a<sup>(2)</sup> = f( Z<sup>(2)</sup> )</li>\n",
    "<li>3. Z<sup>(3)</sup> = a<sup>(2)</sup>W<sup>(2)</sup></li>\n",
    "<li>4. yHat = f( Z<sup>(3)</sup> )</li>\n",
    "<li>5. J = &Sigma;(1/2(y - yHat)<sup>2</sup>)</li>\n",
    "<li>6. &part;J/&part;W<sup>(2)</sup> = (a<sup>(2)</sup>)<sup>T</sup>&delta;<sup>(3)</sup></li>\n",
    "<li>7. &delta;<sup>(3)</sup> = - ( y - yHat ) f '( Z<sup>(3)</sup>)</li>\n",
    "<li>8. &part;J/&part;W<sup>(1)</sup> = X<sup>T</sup> &delta;<sup>(3)</sup> ( W<sup>(2)</sup> )<sup>T</sup> f '( Z<sup>(2)</sup> )</li>\n",
    "<li>9. &delta;<sup>(2)</sup> = &delta;<sup>(3)</sup> ( W<sup>(2)</sup> )<sup>T</sup> f '( Z<sup>(2)</sup> )</li>"
   ]
  },
  {
   "cell_type": "markdown",
   "metadata": {},
   "source": [
    "<p>Now let's write some code for our partial derivatives. We will refer to &part;J/&part;W<sup>(1)</sup> and DJDW1, and &part;J/&part;W<sup>(2)</sup> as DJDW2.</p>"
   ]
  },
  {
   "cell_type": "markdown",
   "metadata": {},
   "source": [
    "<p>&part;J/&part;W<sup>(1)</sup> = X<sup>T</sup> &delta;<sup>(3)</sup> ( W<sup>(2)</sup> )<sup>T</sup> f '( Z<sup>(2)</sup> ). We can represent this in python as,</p>"
   ]
  },
  {
   "cell_type": "markdown",
   "metadata": {},
   "source": [
    "dJdW1 = np.dot(X.T, delta2)"
   ]
  },
  {
   "cell_type": "markdown",
   "metadata": {},
   "source": [
    "delta2 = np.dot(delta3, self.W2.T)*self.sigmoidPrime(self.z2)"
   ]
  },
  {
   "cell_type": "markdown",
   "metadata": {},
   "source": [
    "dJdW2 = np.dot(self.a2.T, delta3)"
   ]
  },
  {
   "cell_type": "markdown",
   "metadata": {},
   "source": [
    "delta3 = np.multiply(-(y-self.yHat), self.sigmoidPrime(self.z3))"
   ]
  },
  {
   "cell_type": "markdown",
   "metadata": {},
   "source": [
    "<p>The full Neural Network Class with changes to the cost function...</p>"
   ]
  },
  {
   "cell_type": "code",
   "execution_count": 48,
   "metadata": {
    "collapsed": true
   },
   "outputs": [],
   "source": [
    "# Whole Class with additions:\n",
    "class Neural_Network(object):\n",
    "    def __init__(self):        \n",
    "        #Define Hyperparameters\n",
    "        self.inputLayerSize = 2\n",
    "        self.outputLayerSize = 1\n",
    "        self.hiddenLayerSize = 3\n",
    "        \n",
    "        #Weights (parameters)\n",
    "        self.W1 = np.random.randn(self.inputLayerSize,self.hiddenLayerSize)\n",
    "        self.W2 = np.random.randn(self.hiddenLayerSize,self.outputLayerSize)\n",
    "        \n",
    "    def forward(self, X):\n",
    "        #Propogate inputs though network\n",
    "        self.z2 = np.dot(X, self.W1)\n",
    "        self.a2 = self.sigmoid(self.z2)\n",
    "        self.z3 = np.dot(self.a2, self.W2)\n",
    "        yHat = self.sigmoid(self.z3) \n",
    "        return yHat\n",
    "        \n",
    "    def sigmoid(self, z):\n",
    "        #Apply sigmoid activation function to scalar, vector, or matrix\n",
    "        return 1/(1+np.exp(-z))\n",
    "    \n",
    "    def sigmoidPrime(self,z):\n",
    "        #Gradient of sigmoid\n",
    "        return np.exp(-z)/((1+np.exp(-z))**2)\n",
    "    \n",
    "    def costFunction(self, X, y):\n",
    "        #Compute cost for given X,y, use weights already stored in class.\n",
    "        self.yHat = self.forward(X)\n",
    "        J = 0.5*sum((y-self.yHat)**2)\n",
    "        return J\n",
    "        \n",
    "    def costFunctionPrime(self, X, y):\n",
    "        #Compute derivative with respect to W and W2 for a given X and y:\n",
    "        self.yHat = self.forward(X)\n",
    "        \n",
    "        delta3 = np.multiply(-(y-self.yHat), self.sigmoidPrime(self.z3))\n",
    "        dJdW2 = np.dot(self.a2.T, delta3)\n",
    "        \n",
    "        delta2 = np.dot(delta3, self.W2.T)*self.sigmoidPrime(self.z2)\n",
    "        dJdW1 = np.dot(X.T, delta2)  \n",
    "        \n",
    "        return dJdW1, dJdW2"
   ]
  },
  {
   "cell_type": "markdown",
   "metadata": {},
   "source": [
    "<p>\"We can now find DJDW, which will tell us which way is downhill in our 9 dimensional optimization space.\"</p>"
   ]
  },
  {
   "cell_type": "code",
   "execution_count": 51,
   "metadata": {
    "collapsed": true
   },
   "outputs": [],
   "source": [
    "X = np.array(([3,5], [5,1], [10,2]), dtype=float)\n",
    "y = np.array(([75], [82], [93]), dtype=float)"
   ]
  },
  {
   "cell_type": "code",
   "execution_count": 52,
   "metadata": {
    "collapsed": true
   },
   "outputs": [],
   "source": [
    "X = X/np.amax(X, axis=0)\n",
    "y = y/100 #Max test score is 100"
   ]
  },
  {
   "cell_type": "code",
   "execution_count": 53,
   "metadata": {
    "collapsed": true
   },
   "outputs": [],
   "source": [
    "NN = Neural_Network()"
   ]
  },
  {
   "cell_type": "code",
   "execution_count": 54,
   "metadata": {
    "collapsed": false
   },
   "outputs": [],
   "source": [
    "cost1 = NN.costFunction(X,y)"
   ]
  },
  {
   "cell_type": "code",
   "execution_count": 55,
   "metadata": {
    "collapsed": true
   },
   "outputs": [],
   "source": [
    "dJdW1, dJdW2 = NN.costFunctionPrime(X,y)"
   ]
  },
  {
   "cell_type": "code",
   "execution_count": 56,
   "metadata": {
    "collapsed": false
   },
   "outputs": [
    {
     "data": {
      "text/plain": [
       "array([[ 0.027215  , -0.03531832, -0.00332894],\n",
       "       [ 0.01781333, -0.02629399, -0.00206227]])"
      ]
     },
     "execution_count": 56,
     "metadata": {},
     "output_type": "execute_result"
    }
   ],
   "source": [
    "dJdW1"
   ]
  },
  {
   "cell_type": "code",
   "execution_count": 57,
   "metadata": {
    "collapsed": false
   },
   "outputs": [
    {
     "data": {
      "text/plain": [
       "array([[-0.10995249],\n",
       "       [-0.04718561],\n",
       "       [-0.08712708]])"
      ]
     },
     "execution_count": 57,
     "metadata": {},
     "output_type": "execute_result"
    }
   ],
   "source": [
    "dJdW2"
   ]
  },
  {
   "cell_type": "markdown",
   "metadata": {},
   "source": [
    "<p>\"If we move this way by adding a scalar times our derivative to all of our weights, our cost will increase.\"</p>"
   ]
  },
  {
   "cell_type": "code",
   "execution_count": 58,
   "metadata": {
    "collapsed": true
   },
   "outputs": [],
   "source": [
    "scalar = 3\n",
    "NN.W1 = NN.W1 + scalar*dJdW1\n",
    "NN.W2 = NN.W2 + scalar*dJdW2\n",
    "cost2 = NN.costFunction(X,y)"
   ]
  },
  {
   "cell_type": "code",
   "execution_count": 59,
   "metadata": {
    "collapsed": false
   },
   "outputs": [
    {
     "data": {
      "text/plain": [
       "0.16769794244942476"
      ]
     },
     "execution_count": 59,
     "metadata": {},
     "output_type": "execute_result"
    }
   ],
   "source": [
    "cost1"
   ]
  },
  {
   "cell_type": "code",
   "execution_count": 60,
   "metadata": {
    "collapsed": false
   },
   "outputs": [
    {
     "data": {
      "text/plain": [
       "0.25152474664167762"
      ]
     },
     "execution_count": 60,
     "metadata": {},
     "output_type": "execute_result"
    }
   ],
   "source": [
    "cost2"
   ]
  },
  {
   "cell_type": "markdown",
   "metadata": {},
   "source": [
    "<p>\"If we do the opposite, subtract our gradient from our weights, we will reduce our cost.\"</p>"
   ]
  },
  {
   "cell_type": "code",
   "execution_count": 61,
   "metadata": {
    "collapsed": true
   },
   "outputs": [],
   "source": [
    "dJdW1, dJdW2 = NN.costFunctionPrime(X,y)\n",
    "NN.W1 = NN.W1 - scalar*dJdW1\n",
    "NN.W2 = NN.W2 - scalar*dJdW2\n",
    "cost3 = NN.costFunction(X, y)"
   ]
  },
  {
   "cell_type": "code",
   "execution_count": 62,
   "metadata": {
    "collapsed": false
   },
   "outputs": [
    {
     "data": {
      "text/plain": [
       "0.25152474664167762"
      ]
     },
     "execution_count": 62,
     "metadata": {},
     "output_type": "execute_result"
    }
   ],
   "source": [
    "cost2"
   ]
  },
  {
   "cell_type": "code",
   "execution_count": 63,
   "metadata": {
    "collapsed": false
   },
   "outputs": [
    {
     "data": {
      "text/plain": [
       "0.1511650470897761"
      ]
     },
     "execution_count": 63,
     "metadata": {},
     "output_type": "execute_result"
    }
   ],
   "source": [
    "cost3"
   ]
  },
  {
   "cell_type": "markdown",
   "metadata": {},
   "source": [
    "<h1>Numerical Gradient Checking</h1>"
   ]
  },
  {
   "cell_type": "code",
   "execution_count": 1,
   "metadata": {
    "collapsed": false
   },
   "outputs": [
    {
     "name": "stdout",
     "output_type": "stream",
     "text": [
      "Populating the interactive namespace from numpy and matplotlib\n"
     ]
    }
   ],
   "source": [
    "%pylab inline"
   ]
  },
  {
   "cell_type": "markdown",
   "metadata": {},
   "source": [
    "<p>Now that we found the rate of change of our cost function, we need a way to check for errors in our code. If we are going to modify our network in the future such as use a different cost function or optimization method, we need a way to make sure our gradients are still being calculated correctly. One way we can do this is by using the definition of the derivative to error check our gradients.</p>"
   ]
  },
  {
   "cell_type": "markdown",
   "metadata": {},
   "source": [
    "<p>Definition of the derivative:\n",
    "<br>\n",
    "f '(x) = lim<sub>&Delta;x&#8594;0</sub> f( x + &Delta;x ) - f( x ) / &Delta;x</p>"
   ]
  },
  {
   "cell_type": "markdown",
   "metadata": {},
   "source": [
    "<p>The definition of the derivative is really just a glorified slope formula, where the top part is the change in y, and the bottom is &Delta;x.</p>"
   ]
  },
  {
   "cell_type": "markdown",
   "metadata": {},
   "source": [
    "<p>By modifying the formula for the derivative somewhat, we can use it to test our gradients. If we use a reasonably small value for delta, or in our case epsilon, we can find the values around our gradient and compare them to the actual derivative.</p>"
   ]
  },
  {
   "cell_type": "code",
   "execution_count": 2,
   "metadata": {
    "collapsed": true
   },
   "outputs": [],
   "source": [
    "def f(x):\n",
    "    return x**2"
   ]
  },
  {
   "cell_type": "code",
   "execution_count": 3,
   "metadata": {
    "collapsed": true
   },
   "outputs": [],
   "source": [
    "epsilon = 1e-4\n",
    "x = 1.5"
   ]
  },
  {
   "cell_type": "code",
   "execution_count": 4,
   "metadata": {
    "collapsed": true
   },
   "outputs": [],
   "source": [
    "numericalGradient = (f(x+epsilon)- f(x-epsilon))/(2*epsilon)"
   ]
  },
  {
   "cell_type": "code",
   "execution_count": 5,
   "metadata": {
    "collapsed": false
   },
   "outputs": [
    {
     "data": {
      "text/plain": [
       "(2.9999999999996696, 3.0)"
      ]
     },
     "execution_count": 5,
     "metadata": {},
     "output_type": "execute_result"
    }
   ],
   "source": [
    "numericalGradient, 2*x"
   ]
  },
  {
   "cell_type": "markdown",
   "metadata": {},
   "source": [
    "<p>Looks close enough for me!</p>"
   ]
  },
  {
   "cell_type": "markdown",
   "metadata": {},
   "source": [
    "<p>Stephen Welch wrote a great method for iteratively calculating the numerical gradient for each of the gradients in our network, let's test this method.</p>"
   ]
  },
  {
   "cell_type": "code",
   "execution_count": 64,
   "metadata": {
    "collapsed": true
   },
   "outputs": [],
   "source": [
    "def computeNumericalGradient(N, X, y):\n",
    "        paramsInitial = N.getParams()\n",
    "        numgrad = np.zeros(paramsInitial.shape)\n",
    "        perturb = np.zeros(paramsInitial.shape)\n",
    "        e = 1e-4\n",
    "\n",
    "        for p in range(len(paramsInitial)):\n",
    "            #Set perturbation vector\n",
    "            perturb[p] = e\n",
    "            N.setParams(paramsInitial + perturb)\n",
    "            loss2 = N.costFunction(X, y)\n",
    "            \n",
    "            N.setParams(paramsInitial - perturb)\n",
    "            loss1 = N.costFunction(X, y)\n",
    "\n",
    "            #Compute Numerical Gradient\n",
    "            numgrad[p] = (loss2 - loss1) / (2*e)\n",
    "\n",
    "            #Return the value we changed to zero:\n",
    "            perturb[p] = 0\n",
    "            \n",
    "        #Return Params to original value:\n",
    "        N.setParams(paramsInitial)\n",
    "\n",
    "        return numgrad "
   ]
  },
  {
   "cell_type": "code",
   "execution_count": 1,
   "metadata": {
    "collapsed": true
   },
   "outputs": [],
   "source": [
    "class Neural_Network(object):\n",
    "    def __init__(self):        \n",
    "        #Define Hyperparameters\n",
    "        self.inputLayerSize = 2\n",
    "        self.outputLayerSize = 1\n",
    "        self.hiddenLayerSize = 3\n",
    "        \n",
    "        #Weights (parameters)\n",
    "        self.W1 = np.random.randn(self.inputLayerSize,self.hiddenLayerSize)\n",
    "        self.W2 = np.random.randn(self.hiddenLayerSize,self.outputLayerSize)\n",
    "        \n",
    "    def forward(self, X):\n",
    "        #Propogate inputs though network\n",
    "        self.z2 = np.dot(X, self.W1)\n",
    "        self.a2 = self.sigmoid(self.z2)\n",
    "        self.z3 = np.dot(self.a2, self.W2)\n",
    "        yHat = self.sigmoid(self.z3) \n",
    "        return yHat\n",
    "        \n",
    "    def sigmoid(self, z):\n",
    "        #Apply sigmoid activation function to scalar, vector, or matrix\n",
    "        return 1/(1+np.exp(-z))\n",
    "    \n",
    "    def sigmoidPrime(self,z):\n",
    "        #Gradient of sigmoid\n",
    "        return np.exp(-z)/((1+np.exp(-z))**2)\n",
    "    \n",
    "    def costFunction(self, X, y):\n",
    "        #Compute cost for given X,y, use weights already stored in class.\n",
    "        self.yHat = self.forward(X)\n",
    "        J = 0.5*sum((y-self.yHat)**2)\n",
    "        return J\n",
    "        \n",
    "    def costFunctionPrime(self, X, y):\n",
    "        #Compute derivative with respect to W and W2 for a given X and y:\n",
    "        self.yHat = self.forward(X)\n",
    "        \n",
    "        delta3 = np.multiply(-(y-self.yHat), self.sigmoidPrime(self.z3))\n",
    "        dJdW2 = np.dot(self.a2.T, delta3)\n",
    "        \n",
    "        delta2 = np.dot(delta3, self.W2.T)*self.sigmoidPrime(self.z2)\n",
    "        dJdW1 = np.dot(X.T, delta2)  \n",
    "        \n",
    "        return dJdW1, dJdW2\n",
    "    \n",
    "    #Helper Functions for interacting with other classes:\n",
    "    def getParams(self):\n",
    "        #Get W1 and W2 unrolled into vector:\n",
    "        params = np.concatenate((self.W1.ravel(), self.W2.ravel()))\n",
    "        return params\n",
    "    \n",
    "    def setParams(self, params):\n",
    "        #Set W1 and W2 using single paramater vector.\n",
    "        W1_start = 0\n",
    "        W1_end = self.hiddenLayerSize * self.inputLayerSize\n",
    "        self.W1 = np.reshape(params[W1_start:W1_end], (self.inputLayerSize , self.hiddenLayerSize))\n",
    "        W2_end = W1_end + self.hiddenLayerSize*self.outputLayerSize\n",
    "        self.W2 = np.reshape(params[W1_end:W2_end], (self.hiddenLayerSize, self.outputLayerSize))\n",
    "        \n",
    "    def computeGradients(self, X, y):\n",
    "        dJdW1, dJdW2 = self.costFunctionPrime(X, y)\n",
    "        return np.concatenate((dJdW1.ravel(), dJdW2.ravel()))"
   ]
  },
  {
   "cell_type": "code",
   "execution_count": 8,
   "metadata": {
    "collapsed": true
   },
   "outputs": [],
   "source": [
    "NN = Neural_Network()"
   ]
  },
  {
   "cell_type": "code",
   "execution_count": 10,
   "metadata": {
    "collapsed": true
   },
   "outputs": [],
   "source": [
    "X = np.array(([3,5], [5,1], [10,2]), dtype=float)\n",
    "y = np.array(([75], [82], [93]), dtype=float)"
   ]
  },
  {
   "cell_type": "code",
   "execution_count": 12,
   "metadata": {
    "collapsed": true
   },
   "outputs": [],
   "source": [
    "X = X/np.amax(X, axis=0)\n",
    "y = y/100 #Max test score is 100"
   ]
  },
  {
   "cell_type": "code",
   "execution_count": 13,
   "metadata": {
    "collapsed": false
   },
   "outputs": [
    {
     "data": {
      "text/plain": [
       "array([-0.00108001, -0.00374748, -0.00122262,  0.0005342 ,  0.00248294,\n",
       "        0.00102226,  0.00098104,  0.00032143, -0.00083862])"
      ]
     },
     "execution_count": 13,
     "metadata": {},
     "output_type": "execute_result"
    }
   ],
   "source": [
    "numgrad = computeNumericalGradient(NN, X, y)\n",
    "numgrad"
   ]
  },
  {
   "cell_type": "code",
   "execution_count": 14,
   "metadata": {
    "collapsed": false
   },
   "outputs": [
    {
     "data": {
      "text/plain": [
       "array([-0.00108001, -0.00374748, -0.00122262,  0.0005342 ,  0.00248294,\n",
       "        0.00102226,  0.00098104,  0.00032144, -0.00083862])"
      ]
     },
     "execution_count": 14,
     "metadata": {},
     "output_type": "execute_result"
    }
   ],
   "source": [
    "grad = NN.computeGradients(X,y)\n",
    "grad"
   ]
  },
  {
   "cell_type": "markdown",
   "metadata": {},
   "source": [
    "<p>By using numpy's built in norm method, we can calculate the difference between our calculations for the gradient, and the numerical gradient.</p>"
   ]
  },
  {
   "cell_type": "code",
   "execution_count": 15,
   "metadata": {
    "collapsed": false
   },
   "outputs": [
    {
     "data": {
      "text/plain": [
       "7.7048508867996125e-09"
      ]
     },
     "execution_count": 15,
     "metadata": {},
     "output_type": "execute_result"
    }
   ],
   "source": [
    "norm(grad-numgrad)/norm(grad+numgrad)"
   ]
  },
  {
   "cell_type": "markdown",
   "metadata": {},
   "source": [
    "<p>If this value is extremely small, then we know our gradients are being calculated correctly.</p>"
   ]
  }
 ],
 "metadata": {
  "kernelspec": {
   "display_name": "Python 3",
   "language": "python",
   "name": "python3"
  },
  "language_info": {
   "codemirror_mode": {
    "name": "ipython",
    "version": 3
   },
   "file_extension": ".py",
   "mimetype": "text/x-python",
   "name": "python",
   "nbconvert_exporter": "python",
   "pygments_lexer": "ipython3",
   "version": "3.4.3"
  }
 },
 "nbformat": 4,
 "nbformat_minor": 0
}
